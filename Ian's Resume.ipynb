{
 "cells": [
  {
   "cell_type": "markdown",
   "metadata": {},
   "source": [
    "<h3><center>Ian Thompson</center></h3>\n",
    "<center>ianiat11@gmail.com</center>\n",
    "\n",
    "---\n",
    "***Professional Experience***\n",
    "<br>\n",
    "*Cerner Corporation*\n",
    "- <p style=\"text-align:left;\">Statistician<span style=\"float:right;\">September 2017 - Present</span></p>\n",
    "\n",
    "    - Build, simulate, and validate algorithms using SQL, pandas, and vertica-python for clients\n",
    "    - Conduct exploratory analyses using Python's machine learning and statistics packages (sklearn, scipy, numpy, pandas) to guide team members' research\n",
    "    - Consult with project stakeholders regarding data discrepancies and perform investigations\n",
    "    - Draft reports with visuals and supporting facts to convey the results of my analyses using matplotlib, seaborn, pandas, vertica-python and SQL\n",
    "    - Teach quarterly Python tutorials to aspiring data analysts both in-person and via the web\n",
    "    - Scrape websites for information and replace the manual effort using BeautifulSoup, pandas, and requests\n",
    "    - Log JIRAs to engineering when I have located discrepancies in a production algorithm and exhausted all investigative techniques\n",
    "    \n",
    "\n",
    "- <p style=\"text-align:left;\">Consulting Analyst<span style=\"float:right;\">January 2016 - September 2017</span></p>\n",
    "\n",
    "    - Automate the creation of Excel file reports using pandas and SQL to avoid crashes due to too many functions\n",
    "    - Automate the creation of PowerPoint presentations to avoid typographical errors and decrease development time using python-pptx\n",
    "    - Build and maintain Tableau dashboards to generate standard reports for consultants\n",
    "---\n",
    "***Education***\n",
    "\n",
    "<p style=\"text-align:left;\"><i>Kansas State University</i>, Bachelor of Science, Mathematics, +3.5 GPA<span style=\"float:right;\">August 2013 - August 2015</span></p>\n",
    "\n",
    "- Academic Chair for Sigma Alpha Epsilon fraternity\n",
    "- Mathematics tutor\n",
    "\n",
    "<p style=\"text-align:left;\"><i>University of Oxford</i>, World Affairs, 4.0 GPA<span style=\"float:right;\">July 2013</span></p>\n",
    "\n",
    "<p style=\"text-align:left;\"><i>Saint Charles Community College</i>, Mathematics, +3.5 GPA<span style=\"float:right;\">August 2011 - June 2013</span></p>\n",
    "\n",
    "- President of the Student Ambassadors\n",
    "- Treasurer of the Student Senate\n",
    "---\n",
    "***Publications***\n",
    "\n",
    "A generalization of the Goresky-Klapper conjecture, Part I [](https://doi.org/10.1137/18M1186381)\n",
    "\n",
    "---\n",
    "***Projects***\n",
    "\n",
    "- In the late summer of 2016 I was tasked with recreating a benchmarking algorithm called the *Achievable Benchmarks of Care* [](https://www.ncbi.nlm.nih.gov/pubmed/10461579). My original script was written in Python and used my knowledge of statisticis and mathematics to test and validate the algorithm aginst hand-calculated results done in Excel. Over time, the algorithm has grown more advanced and generalizable to populations including provider and client level benchmarks. This past year I modified the algorithm using calculus and kernel density estimation curves to create a 3-tier approach to help improve the overall performance of providers/clients rather than only focus on the \"top-decile\" given by the ABC. At the end of the year I began developing an application using Python's Tkinter library to create a benchmarking calculator that could be used by the less technical members of my team.\n",
    "\n",
    "- In January 2018 I was tasked with recreating a client-specific algorithm in SQL from scratch. The development of the algorithm required a lot of data ETL and resulted in the discovery of errors in the current production algorithm. After doing this for another client algorithm and finding more errors, I developed a template JIRA that internal consultants could use to contract my work. This earned me the *Consulting Project Eagle Award*\n",
    "\n",
    "- After the repeated success of my algorithm investigations I began to standardize the process by developing a Python module. This was designed to aid in the development, simulation, and validation of algorithms by accepting common parameters listed in most of the algorithm designs. I have made over 70 commits to the module since March 30, 2018 that include 6 classes, 45 functions, and error handling. The majority of the module was designed to reduce the time it takes to write SQL queries. Byproducts of this were fewer human errors, less critical thinking, and easier error diagnosing. All of my work has been tracked on a proprietary GitHub repository.\n",
    "\n",
    "- Over the course of my professional career I have taught myself machine learning skills and applied them to an exploratory data analysis project. The project involved clustering demographic and medical result data on diabetic patients in the state of Wisconsin. I gathered the data from my company's database using SQL and the Python module I developed, then cleaned and prepared the data to be run through several clustering algorithms. The purpose of the analysis was to see if demographics contributed to the cluster definitions. In the end they did not and it was decided that we needed more granular demographic data before continuing.\n",
    "\n",
    "---\n",
    "***Interests***\n",
    "- Running, Python, machine learning, data science in general, number theory, fpv drones, robotics, logic puzzles, coffee"
   ]
  }
 ],
 "metadata": {
  "kernelspec": {
   "display_name": "Python 3",
   "language": "python",
   "name": "python3"
  },
  "language_info": {
   "codemirror_mode": {
    "name": "ipython",
    "version": 3
   },
   "file_extension": ".py",
   "mimetype": "text/x-python",
   "name": "python",
   "nbconvert_exporter": "python",
   "pygments_lexer": "ipython3",
   "version": "3.7.1"
  }
 },
 "nbformat": 4,
 "nbformat_minor": 2
}
