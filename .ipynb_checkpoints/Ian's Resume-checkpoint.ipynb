{
 "cells": [
  {
   "cell_type": "markdown",
   "metadata": {},
   "source": [
    "<h3><center>Ian Thompson</center></h3>\n",
    "\n",
    "<center>Statistician with +3 years of professional experience. Comfortable with vague instructions. Willing to ask questions. Committed to getting the job done right. Will own up to mistakes and fix them.</center>\n",
    "\n",
    "---\n",
    "***Professional Experience***\n",
    "<br>\n",
    "*Cerner Corporation*\n",
    "- <p style=\"text-align:left;\">Statistician<span style=\"float:right;\">September 2017 - Present</span></p>\n",
    "\n",
    "    - Build, simulate, and validate algorithms using SQL, pandas, and vertica-python for clients\n",
    "    - Conduct exploratory analyses using Python's machine learning and statistics packages (sklearn, scipy, numpy, pandas) to guide team members' research\n",
    "    - Consult with project stakeholders regarding data discrepancies and perform investigations\n",
    "    - Draft reports with visuals and supporting facts to convey the results of my analyses using matplotlib, seaborn, pandas, vertica-python and SQL\n",
    "    - Teach quarterly Python tutorials to aspiring data analysts both in-person and via the web\n",
    "    - Scrape websites for information to avoid having to visit each website and take note's by hand using BeautifulSoup, pandas, and requests\n",
    "    - Log JIRA tickets to engineering when I have located discrepancies in a production algoithm and exhausted all investigative techniques\n",
    "    - Create template JIRAs so that consultants may assign me projects and I can keep all related material in one location\n",
    "    - Track my code projects and their historical editions on GitHub for future refernce and to avoid losing them do to technical failures\n",
    "    - Continuously develop and maintain a custom Python module that allows for reductions in development time on almost all of my projects\n",
    "\n",
    "\n",
    "- <p style=\"text-align:left;\">Consulting Analyst<span style=\"float:right;\">January 2016 - September 2017</span></p>\n",
    "\n",
    "    - Automate the creation of Excel file reports using pandas and SQL to avoid crashes due to too many functions\n",
    "    - Automate the creation of PowerPoint presentations to avoid typographical errors and decrease development time using python-pptx\n",
    "    - Build and maintain Tableau dashboards to generate standard reports for consultants\n",
    "---\n",
    "***Education***\n",
    "\n",
    "<p style=\"text-align:left;\"><i>Kansas State University</i>, Bachelor of Science, Mathematics, +3.5 GPA<span style=\"float:right;\">August 2013 - August 2015</span></p>\n",
    "\n",
    "- Academic Chair for Sigma Alpha Epsilon fraternity\n",
    "- Mathematics tutor\n",
    "\n",
    "<p style=\"text-align:left;\"><i>University of Oxford</i>, World Affairs, 4.0 GPA<span style=\"float:right;\">July 2013</span></p>\n",
    "\n",
    "<p style=\"text-align:left;\"><i>Saint Charles Community College</i>, Mathematics, +3.5 GPA<span style=\"float:right;\">August 2011 - June 2013</span></p>\n",
    "\n",
    "- President of the Student Ambassadors\n",
    "- Treasurer of the Student Senate\n",
    "---\n",
    "***Skills***\n",
    "\n",
    "<p style=\"text-align:left;\"><b>Python</b><span style=\"float:right;\">Experienced</span></p>\n",
    "Packages: beautifulsoup, matplotlib, numpy, pandas, python-pptx, requests, scipy, seaborn, sklearn, vertica-python\n",
    "<p style=\"text-align:left;\"><b>SQL</b><span style=\"float:right;\">Experienced</span></p>\n",
    "<p style=\"text-align:left;\"><b>JIRA</b><span style=\"float:right;\">Experienced</span></p>\n",
    "<p style=\"text-align:left;\"><b>Mathematics, Statistics, and Probability</b><span style=\"float:right;\">Experienced</span></p>\n",
    "A generalization of the Goresky-Klapper conjecture, Part I (https://doi.org/10.1137/18M1186381)\n",
    "<p style=\"text-align:left;\"><b>Excel</b><span style=\"float:right;\">Intermediate</span></p>\n",
    "<p style=\"text-align:left;\"><b>GitHub/Git</b><span style=\"float:right;\">Intermediate</span></p>\n",
    "<p style=\"text-align:left;\"><b>Tableau</b><span style=\"float:right;\">Intermediate</span></p>"
   ]
  }
 ],
 "metadata": {
  "kernelspec": {
   "display_name": "Python 3",
   "language": "python",
   "name": "python3"
  },
  "language_info": {
   "codemirror_mode": {
    "name": "ipython",
    "version": 3
   },
   "file_extension": ".py",
   "mimetype": "text/x-python",
   "name": "python",
   "nbconvert_exporter": "python",
   "pygments_lexer": "ipython3",
   "version": "3.7.2"
  }
 },
 "nbformat": 4,
 "nbformat_minor": 2
}
